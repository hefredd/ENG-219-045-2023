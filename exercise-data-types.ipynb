{
 "cells": [
  {
   "cell_type": "markdown",
   "id": "8bc45ce4",
   "metadata": {
    "papermill": {
     "duration": 0.006444,
     "end_time": "2025-03-05T09:58:20.705662",
     "exception": false,
     "start_time": "2025-03-05T09:58:20.699218",
     "status": "completed"
    },
    "tags": []
   },
   "source": [
    "**This notebook is an exercise in the [Intro to Programming](https://www.kaggle.com/learn/intro-to-programming) course.  You can reference the tutorial at [this link](https://www.kaggle.com/alexisbcook/data-types).**\n",
    "\n",
    "---\n"
   ]
  },
  {
   "cell_type": "markdown",
   "id": "ae895bfb",
   "metadata": {
    "papermill": {
     "duration": 0.005134,
     "end_time": "2025-03-05T09:58:20.716506",
     "exception": false,
     "start_time": "2025-03-05T09:58:20.711372",
     "status": "completed"
    },
    "tags": []
   },
   "source": [
    "In the tutorial, you learned about four different data types: floats, integers, strings, and booleans.  In this exercise, you'll experiment with them.\n",
    "\n",
    "# Set up the notebook\n",
    "\n",
    "Run the next code cell without changes to set up the notebook."
   ]
  },
  {
   "cell_type": "code",
   "execution_count": 1,
   "id": "43f63b9b",
   "metadata": {
    "execution": {
     "iopub.execute_input": "2025-03-05T09:58:20.729755Z",
     "iopub.status.busy": "2025-03-05T09:58:20.729179Z",
     "iopub.status.idle": "2025-03-05T09:58:22.009919Z",
     "shell.execute_reply": "2025-03-05T09:58:22.008619Z"
    },
    "papermill": {
     "duration": 1.289678,
     "end_time": "2025-03-05T09:58:22.011945",
     "exception": false,
     "start_time": "2025-03-05T09:58:20.722267",
     "status": "completed"
    },
    "tags": []
   },
   "outputs": [
    {
     "name": "stdout",
     "output_type": "stream",
     "text": [
      "Setup complete.\n"
     ]
    }
   ],
   "source": [
    "# Set up the exercise\n",
    "from learntools.core import binder\n",
    "binder.bind(globals())\n",
    "from learntools.intro_to_programming.ex3 import *\n",
    "print('Setup complete.')"
   ]
  },
  {
   "cell_type": "markdown",
   "id": "f916561c",
   "metadata": {
    "papermill": {
     "duration": 0.005711,
     "end_time": "2025-03-05T09:58:22.023492",
     "exception": false,
     "start_time": "2025-03-05T09:58:22.017781",
     "status": "completed"
    },
    "tags": []
   },
   "source": [
    "# Question 1\n",
    "\n",
    "You have seen how to convert a float to an integer with the `int` function.  Try this out yourself by running the code cell below."
   ]
  },
  {
   "cell_type": "code",
   "execution_count": 2,
   "id": "66dee758",
   "metadata": {
    "execution": {
     "iopub.execute_input": "2025-03-05T09:58:22.036911Z",
     "iopub.status.busy": "2025-03-05T09:58:22.036441Z",
     "iopub.status.idle": "2025-03-05T09:58:22.042928Z",
     "shell.execute_reply": "2025-03-05T09:58:22.041419Z"
    },
    "papermill": {
     "duration": 0.015409,
     "end_time": "2025-03-05T09:58:22.044907",
     "exception": false,
     "start_time": "2025-03-05T09:58:22.029498",
     "status": "completed"
    },
    "tags": []
   },
   "outputs": [
    {
     "name": "stdout",
     "output_type": "stream",
     "text": [
      "1.0\n",
      "<class 'float'>\n",
      "1\n",
      "<class 'int'>\n"
     ]
    }
   ],
   "source": [
    "# Define a float\n",
    "y = 1.\n",
    "print(y)\n",
    "print(type(y))\n",
    "\n",
    "# Convert float to integer with the int function\n",
    "z = int(y)\n",
    "print(z)\n",
    "print(type(z))"
   ]
  },
  {
   "cell_type": "markdown",
   "id": "0cb64dd0",
   "metadata": {
    "papermill": {
     "duration": 0.005279,
     "end_time": "2025-03-05T09:58:22.056153",
     "exception": false,
     "start_time": "2025-03-05T09:58:22.050874",
     "status": "completed"
    },
    "tags": []
   },
   "source": [
    "In this case, the float you are using has no numbers after the decimal.  \n",
    "- But what happens when you try to convert a float with a fractional part to an integer?  \n",
    "- How does the outcome of the `int` function change for positive and negative numbers?\n",
    "\n",
    "Use the next code cell to investigate and answer these questions.  Feel free to add or remove any lines of code -- it is your workspace!"
   ]
  },
  {
   "cell_type": "code",
   "execution_count": 3,
   "id": "c88adfb7",
   "metadata": {
    "execution": {
     "iopub.execute_input": "2025-03-05T09:58:22.069638Z",
     "iopub.status.busy": "2025-03-05T09:58:22.069231Z",
     "iopub.status.idle": "2025-03-05T09:58:22.075727Z",
     "shell.execute_reply": "2025-03-05T09:58:22.074622Z"
    },
    "papermill": {
     "duration": 0.01536,
     "end_time": "2025-03-05T09:58:22.077511",
     "exception": false,
     "start_time": "2025-03-05T09:58:22.062151",
     "status": "completed"
    },
    "tags": []
   },
   "outputs": [
    {
     "name": "stdout",
     "output_type": "stream",
     "text": [
      "1\n",
      "1\n",
      "-3\n",
      "-2\n",
      "29\n"
     ]
    }
   ],
   "source": [
    "# Uncomment and run this code to get started!\n",
    "print(int(1.2321))\n",
    "print(int(1.747))\n",
    "print(int(-3.94535))\n",
    "print(int(-2.19774))\n",
    "print(int(29.999))"
   ]
  },
  {
   "cell_type": "markdown",
   "id": "7e40d3c4",
   "metadata": {
    "papermill": {
     "duration": 0.005496,
     "end_time": "2025-03-05T09:58:22.088810",
     "exception": false,
     "start_time": "2025-03-05T09:58:22.083314",
     "status": "completed"
    },
    "tags": []
   },
   "source": [
    "Once you have an answer, run the code cell below to see the solution.  Viewing the solution will give you credit for answering the problem."
   ]
  },
  {
   "cell_type": "code",
   "execution_count": 4,
   "id": "99f19598",
   "metadata": {
    "execution": {
     "iopub.execute_input": "2025-03-05T09:58:22.102078Z",
     "iopub.status.busy": "2025-03-05T09:58:22.101733Z",
     "iopub.status.idle": "2025-03-05T09:58:22.109923Z",
     "shell.execute_reply": "2025-03-05T09:58:22.108875Z"
    },
    "papermill": {
     "duration": 0.017218,
     "end_time": "2025-03-05T09:58:22.111679",
     "exception": false,
     "start_time": "2025-03-05T09:58:22.094461",
     "status": "completed"
    },
    "tags": []
   },
   "outputs": [
    {
     "data": {
      "application/javascript": [
       "parent.postMessage({\"jupyterEvent\": \"custom.exercise_interaction\", \"data\": {\"outcomeType\": 1, \"valueTowardsCompletion\": 0.2, \"interactionType\": 1, \"questionType\": 4, \"questionId\": \"1_FloatToInt\", \"learnToolsVersion\": \"0.3.4\", \"failureMessage\": \"\", \"exceptionClass\": \"\", \"trace\": \"\"}}, \"*\")"
      ],
      "text/plain": [
       "<IPython.core.display.Javascript object>"
      ]
     },
     "metadata": {},
     "output_type": "display_data"
    },
    {
     "data": {
      "text/markdown": [
       "<span style=\"color:#33cc33\">Correct:</span> \n",
       "\n",
       "Negative floats are always rounded UP to the closest integer (for instance, both -1.1 and -1.9 are rounded up to -1). Positive floats are always rounded DOWN to the closest integer (for instance, 2.1 and 2.9 are rounded down to 2)."
      ],
      "text/plain": [
       "Correct: \n",
       "\n",
       "Negative floats are always rounded UP to the closest integer (for instance, both -1.1 and -1.9 are rounded up to -1). Positive floats are always rounded DOWN to the closest integer (for instance, 2.1 and 2.9 are rounded down to 2)."
      ]
     },
     "metadata": {},
     "output_type": "display_data"
    }
   ],
   "source": [
    "# Check your answer (Run this code cell to receive credit!)\n",
    "q1.check()"
   ]
  },
  {
   "cell_type": "markdown",
   "id": "302397c1",
   "metadata": {
    "papermill": {
     "duration": 0.005815,
     "end_time": "2025-03-05T09:58:22.123563",
     "exception": false,
     "start_time": "2025-03-05T09:58:22.117748",
     "status": "completed"
    },
    "tags": []
   },
   "source": [
    "# Question 2\n",
    "\n",
    "In the tutorial, you learned about booleans (which can take a value of `True` or `False`), in addition to integers, floats, and strings.  For this question, your goal is to determine what happens when you multiply a boolean by any of these data types.  Specifically, \n",
    "- What happens when you multiply an integer or float by `True`?  What happens when you multiply them by `False`?  How does the answer change if the numbers are positive or negative?\n",
    "- What happens when you multiply a string by `True`?  By `False`?\n",
    "\n",
    "Use the next code cell for your investigation. "
   ]
  },
  {
   "cell_type": "code",
   "execution_count": 5,
   "id": "550c1354",
   "metadata": {
    "execution": {
     "iopub.execute_input": "2025-03-05T09:58:22.137449Z",
     "iopub.status.busy": "2025-03-05T09:58:22.136994Z",
     "iopub.status.idle": "2025-03-05T09:58:22.143601Z",
     "shell.execute_reply": "2025-03-05T09:58:22.142458Z"
    },
    "papermill": {
     "duration": 0.015267,
     "end_time": "2025-03-05T09:58:22.145484",
     "exception": false,
     "start_time": "2025-03-05T09:58:22.130217",
     "status": "completed"
    },
    "tags": []
   },
   "outputs": [
    {
     "name": "stdout",
     "output_type": "stream",
     "text": [
      "3\n",
      "-3.1\n",
      "<class 'str'>\n",
      "0\n",
      "3\n"
     ]
    }
   ],
   "source": [
    "# Uncomment and run this code to get started!\n",
    "print(3 * True)\n",
    "print(-3.1 * True)\n",
    "print(type(\"abc\" * False))\n",
    "print(len(\"abc\" * False))\n",
    "print(len(\"abd\" * True))"
   ]
  },
  {
   "cell_type": "markdown",
   "id": "e6a62140",
   "metadata": {
    "papermill": {
     "duration": 0.005801,
     "end_time": "2025-03-05T09:58:22.157749",
     "exception": false,
     "start_time": "2025-03-05T09:58:22.151948",
     "status": "completed"
    },
    "tags": []
   },
   "source": [
    "Once you have an answer, run the code cell below to see the solution.  Viewing the solution will give you credit for answering the problem."
   ]
  },
  {
   "cell_type": "code",
   "execution_count": 6,
   "id": "637d0846",
   "metadata": {
    "execution": {
     "iopub.execute_input": "2025-03-05T09:58:22.171357Z",
     "iopub.status.busy": "2025-03-05T09:58:22.170729Z",
     "iopub.status.idle": "2025-03-05T09:58:22.178839Z",
     "shell.execute_reply": "2025-03-05T09:58:22.177699Z"
    },
    "papermill": {
     "duration": 0.016622,
     "end_time": "2025-03-05T09:58:22.180383",
     "exception": false,
     "start_time": "2025-03-05T09:58:22.163761",
     "status": "completed"
    },
    "tags": []
   },
   "outputs": [
    {
     "data": {
      "application/javascript": [
       "parent.postMessage({\"jupyterEvent\": \"custom.exercise_interaction\", \"data\": {\"outcomeType\": 1, \"valueTowardsCompletion\": 0.2, \"interactionType\": 1, \"questionType\": 4, \"questionId\": \"2_MultiplyBooleans\", \"learnToolsVersion\": \"0.3.4\", \"failureMessage\": \"\", \"exceptionClass\": \"\", \"trace\": \"\"}}, \"*\")"
      ],
      "text/plain": [
       "<IPython.core.display.Javascript object>"
      ]
     },
     "metadata": {},
     "output_type": "display_data"
    },
    {
     "data": {
      "text/markdown": [
       "<span style=\"color:#33cc33\">Correct:</span> \n",
       "\n",
       "When you multiple an integer or float by a boolean with value `True`, it just returns that same integer or float (and is equivalent to multiplying by 1).  If you multiply an integer or float by a boolean with value `False`, it always returns 0.  This is true for both positive and negative numbers.  If you multiply a string by a boolean with value `True`, it just returns that same string.  And if you multiply a string by a boolean with value `False`, it returns an empty string (or a string with length zero)."
      ],
      "text/plain": [
       "Correct: \n",
       "\n",
       "When you multiple an integer or float by a boolean with value `True`, it just returns that same integer or float (and is equivalent to multiplying by 1).  If you multiply an integer or float by a boolean with value `False`, it always returns 0.  This is true for both positive and negative numbers.  If you multiply a string by a boolean with value `True`, it just returns that same string.  And if you multiply a string by a boolean with value `False`, it returns an empty string (or a string with length zero)."
      ]
     },
     "metadata": {},
     "output_type": "display_data"
    }
   ],
   "source": [
    "# Check your answer (Run this code cell to receive credit!)\n",
    "q2.check()"
   ]
  },
  {
   "cell_type": "markdown",
   "id": "3f0750a4",
   "metadata": {
    "papermill": {
     "duration": 0.005808,
     "end_time": "2025-03-05T09:58:22.192693",
     "exception": false,
     "start_time": "2025-03-05T09:58:22.186885",
     "status": "completed"
    },
    "tags": []
   },
   "source": [
    "# Question 3\n",
    "\n",
    "In this question, you will build off your work from the previous exercise to write a function that estimates the value of a house.\n",
    "\n",
    "Use the next code cell to create a function `get_expected_cost` that takes as input three variables:\n",
    "- `beds` - number of bedrooms (data type float)\n",
    "- `baths` - number of bathrooms (data type float)\n",
    "- `has_basement` - whether or not the house has a basement (data type boolean)\n",
    "\n",
    "It should return the expected cost of a house with those characteristics. Assume that:\n",
    "- the expected cost for a house with 0 bedrooms and 0 bathrooms, and no basement is 80000, \n",
    "- each bedroom adds 30000 to the expected cost,\n",
    "- each bathroom adds 10000 to the expected cost, and\n",
    "- a basement adds 40000 to the expected cost.\n",
    "\n",
    "For instance,\n",
    "- a house with 1 bedroom, 1 bathroom, and no basement has an expected cost of 80000 + 30000 + 10000 = 120000.  This value will be calculated with `get_expected_cost(1, 1, False)`.\n",
    "- a house with 2 bedrooms, 1 bathroom, and a basement has an expected cost of 80000 + 2*30000 + 10000 + 40000 = 190000.  This value will be calculated with `get_expected_cost(2, 1, True)`.\n",
    "\n",
    "Remember you can always get a hint by uncommenting `q3.hint()` in the code cell following the next!"
   ]
  },
  {
   "cell_type": "code",
   "execution_count": 7,
   "id": "9aaf30fe",
   "metadata": {
    "execution": {
     "iopub.execute_input": "2025-03-05T09:58:22.206431Z",
     "iopub.status.busy": "2025-03-05T09:58:22.205979Z",
     "iopub.status.idle": "2025-03-05T09:58:22.214303Z",
     "shell.execute_reply": "2025-03-05T09:58:22.213265Z"
    },
    "papermill": {
     "duration": 0.017258,
     "end_time": "2025-03-05T09:58:22.216141",
     "exception": false,
     "start_time": "2025-03-05T09:58:22.198883",
     "status": "completed"
    },
    "tags": []
   },
   "outputs": [
    {
     "data": {
      "application/javascript": [
       "parent.postMessage({\"jupyterEvent\": \"custom.exercise_interaction\", \"data\": {\"outcomeType\": 1, \"valueTowardsCompletion\": 0.2, \"interactionType\": 1, \"questionType\": 2, \"questionId\": \"3_EstimateHouseValueBool\", \"learnToolsVersion\": \"0.3.4\", \"failureMessage\": \"\", \"exceptionClass\": \"\", \"trace\": \"\"}}, \"*\")"
      ],
      "text/plain": [
       "<IPython.core.display.Javascript object>"
      ]
     },
     "metadata": {},
     "output_type": "display_data"
    },
    {
     "data": {
      "text/markdown": [
       "<span style=\"color:#33cc33\">Correct</span>"
      ],
      "text/plain": [
       "Correct"
      ]
     },
     "metadata": {},
     "output_type": "display_data"
    }
   ],
   "source": [
    "# TODO: Complete the function\n",
    "def get_expected_cost(beds, baths, has_basement):\n",
    "    expected_cost = 80000\n",
    "    with_bedroom = 30000\n",
    "    with_bathroom = 10000\n",
    "    with_basement = 40000\n",
    "    value = expected_cost + (beds * with_bedroom) + (baths * with_bathroom) + (has_basement * with_basement)\n",
    "    return value\n",
    "\n",
    "# Check your answer \n",
    "q3.check()"
   ]
  },
  {
   "cell_type": "code",
   "execution_count": 8,
   "id": "5183458b",
   "metadata": {
    "execution": {
     "iopub.execute_input": "2025-03-05T09:58:22.230608Z",
     "iopub.status.busy": "2025-03-05T09:58:22.230212Z",
     "iopub.status.idle": "2025-03-05T09:58:22.234182Z",
     "shell.execute_reply": "2025-03-05T09:58:22.233184Z"
    },
    "papermill": {
     "duration": 0.013166,
     "end_time": "2025-03-05T09:58:22.236014",
     "exception": false,
     "start_time": "2025-03-05T09:58:22.222848",
     "status": "completed"
    },
    "tags": []
   },
   "outputs": [],
   "source": [
    "# Uncomment to see a hint\n",
    "#q3.hint()\n",
    "\n",
    "# Uncomment to view the solution\n",
    "#q3.solution()"
   ]
  },
  {
   "cell_type": "markdown",
   "id": "25ec224a",
   "metadata": {
    "papermill": {
     "duration": 0.006424,
     "end_time": "2025-03-05T09:58:22.249060",
     "exception": false,
     "start_time": "2025-03-05T09:58:22.242636",
     "status": "completed"
    },
    "tags": []
   },
   "source": [
    "# Question 4\n",
    "\n",
    "We'll continue our study of boolean arithmetic.  For this question, your task is to provide a description of what happpens when you add booleans. \n",
    "\n",
    "Use the next code cell for your investigation.  Feel free to add or remove any lines of code - use it as your workspace!"
   ]
  },
  {
   "cell_type": "code",
   "execution_count": 9,
   "id": "108e794b",
   "metadata": {
    "execution": {
     "iopub.execute_input": "2025-03-05T09:58:22.263111Z",
     "iopub.status.busy": "2025-03-05T09:58:22.262777Z",
     "iopub.status.idle": "2025-03-05T09:58:22.269012Z",
     "shell.execute_reply": "2025-03-05T09:58:22.267746Z"
    },
    "papermill": {
     "duration": 0.015331,
     "end_time": "2025-03-05T09:58:22.270918",
     "exception": false,
     "start_time": "2025-03-05T09:58:22.255587",
     "status": "completed"
    },
    "tags": []
   },
   "outputs": [
    {
     "name": "stdout",
     "output_type": "stream",
     "text": [
      "0\n",
      "1\n",
      "1\n",
      "2\n",
      "3\n",
      "0\n"
     ]
    }
   ],
   "source": [
    "print(False + False)\n",
    "print(True + False)\n",
    "print(False + True)\n",
    "print(True + True)\n",
    "print(False + True + True + True)\n",
    "print(False + False + False + False + False)"
   ]
  },
  {
   "cell_type": "markdown",
   "id": "4d699a6c",
   "metadata": {
    "papermill": {
     "duration": 0.006259,
     "end_time": "2025-03-05T09:58:22.285729",
     "exception": false,
     "start_time": "2025-03-05T09:58:22.279470",
     "status": "completed"
    },
    "tags": []
   },
   "source": [
    "Once you have an answer, run the code cell below to see the solution.  Viewing the solution will give you credit for answering the problem."
   ]
  },
  {
   "cell_type": "code",
   "execution_count": 10,
   "id": "bf98496f",
   "metadata": {
    "execution": {
     "iopub.execute_input": "2025-03-05T09:58:22.299911Z",
     "iopub.status.busy": "2025-03-05T09:58:22.299563Z",
     "iopub.status.idle": "2025-03-05T09:58:22.307033Z",
     "shell.execute_reply": "2025-03-05T09:58:22.305895Z"
    },
    "papermill": {
     "duration": 0.016481,
     "end_time": "2025-03-05T09:58:22.308725",
     "exception": false,
     "start_time": "2025-03-05T09:58:22.292244",
     "status": "completed"
    },
    "tags": []
   },
   "outputs": [
    {
     "data": {
      "application/javascript": [
       "parent.postMessage({\"jupyterEvent\": \"custom.exercise_interaction\", \"data\": {\"outcomeType\": 1, \"valueTowardsCompletion\": 0.2, \"interactionType\": 1, \"questionType\": 4, \"questionId\": \"4_AddingBooleans\", \"learnToolsVersion\": \"0.3.4\", \"failureMessage\": \"\", \"exceptionClass\": \"\", \"trace\": \"\"}}, \"*\")"
      ],
      "text/plain": [
       "<IPython.core.display.Javascript object>"
      ]
     },
     "metadata": {},
     "output_type": "display_data"
    },
    {
     "data": {
      "text/markdown": [
       "<span style=\"color:#33cc33\">Correct:</span> \n",
       "\n",
       "When you add booleans, adding `False` is equivalent to adding 0, and adding `True` is equivalent to adding 1."
      ],
      "text/plain": [
       "Correct: \n",
       "\n",
       "When you add booleans, adding `False` is equivalent to adding 0, and adding `True` is equivalent to adding 1."
      ]
     },
     "metadata": {},
     "output_type": "display_data"
    }
   ],
   "source": [
    "# Check your answer (Run this code cell to receive credit!)\n",
    "q4.check()"
   ]
  },
  {
   "cell_type": "markdown",
   "id": "00d9b2a3",
   "metadata": {
    "papermill": {
     "duration": 0.00649,
     "end_time": "2025-03-05T09:58:22.322263",
     "exception": false,
     "start_time": "2025-03-05T09:58:22.315773",
     "status": "completed"
    },
    "tags": []
   },
   "source": [
    "# 🌶️ Question 5\n",
    "\n",
    "You own an online shop where you sell rings with custom engravings.  You offer both gold plated and solid gold rings.\n",
    "- Gold plated rings have a base cost of \\\\$50, and you charge \\\\$7 per engraved unit.  \n",
    "- Solid gold rings have a base cost of \\\\$100, and you charge \\\\$10 per engraved unit.\n",
    "- Spaces and punctuation are counted as engraved units.\n",
    "\n",
    "Write a function `cost_of_project()` that takes two arguments:\n",
    "- `engraving` - a Python string with the text of the engraving\n",
    "- `solid_gold` - a Boolean that indicates whether the ring is solid gold\n",
    "\n",
    "It should return the cost of the project.  This question should be fairly challenging, and you may need a hint."
   ]
  },
  {
   "cell_type": "code",
   "execution_count": 11,
   "id": "4942b065",
   "metadata": {
    "execution": {
     "iopub.execute_input": "2025-03-05T09:58:22.337642Z",
     "iopub.status.busy": "2025-03-05T09:58:22.337225Z",
     "iopub.status.idle": "2025-03-05T09:58:22.346316Z",
     "shell.execute_reply": "2025-03-05T09:58:22.344955Z"
    },
    "papermill": {
     "duration": 0.019154,
     "end_time": "2025-03-05T09:58:22.348351",
     "exception": false,
     "start_time": "2025-03-05T09:58:22.329197",
     "status": "completed"
    },
    "tags": []
   },
   "outputs": [
    {
     "data": {
      "application/javascript": [
       "parent.postMessage({\"jupyterEvent\": \"custom.exercise_interaction\", \"data\": {\"outcomeType\": 1, \"valueTowardsCompletion\": 0.2, \"interactionType\": 1, \"questionType\": 2, \"questionId\": \"5_CustomEngravings\", \"learnToolsVersion\": \"0.3.4\", \"failureMessage\": \"\", \"exceptionClass\": \"\", \"trace\": \"\"}}, \"*\")"
      ],
      "text/plain": [
       "<IPython.core.display.Javascript object>"
      ]
     },
     "metadata": {},
     "output_type": "display_data"
    },
    {
     "data": {
      "text/markdown": [
       "<span style=\"color:#33cc33\">Correct</span>"
      ],
      "text/plain": [
       "Correct"
      ]
     },
     "metadata": {},
     "output_type": "display_data"
    }
   ],
   "source": [
    "def cost_of_project(engraving, solid_gold):\n",
    "    gold_plated_cost = 50 + (7 * len(engraving))\n",
    "    solid_gold_cost = solid_gold * (100 + (10 * len(engraving)))\n",
    "    cost = (not solid_gold) * gold_plated_cost + solid_gold_cost\n",
    "    return cost\n",
    "\n",
    "# Check your answer\n",
    "q5.check()"
   ]
  },
  {
   "cell_type": "code",
   "execution_count": 12,
   "id": "76f98b6b",
   "metadata": {
    "execution": {
     "iopub.execute_input": "2025-03-05T09:58:22.363531Z",
     "iopub.status.busy": "2025-03-05T09:58:22.363116Z",
     "iopub.status.idle": "2025-03-05T09:58:22.366929Z",
     "shell.execute_reply": "2025-03-05T09:58:22.365887Z"
    },
    "papermill": {
     "duration": 0.013241,
     "end_time": "2025-03-05T09:58:22.368734",
     "exception": false,
     "start_time": "2025-03-05T09:58:22.355493",
     "status": "completed"
    },
    "tags": []
   },
   "outputs": [],
   "source": [
    "# Uncomment to see a hint\n",
    "#q5.hint()\n",
    "\n",
    "# Uncomment to view the solution\n",
    "#q5.solution()"
   ]
  },
  {
   "cell_type": "markdown",
   "id": "d7695f06",
   "metadata": {
    "papermill": {
     "duration": 0.0067,
     "end_time": "2025-03-05T09:58:22.382779",
     "exception": false,
     "start_time": "2025-03-05T09:58:22.376079",
     "status": "completed"
    },
    "tags": []
   },
   "source": [
    "Run the next code cell to calculate the cost of engraving `Charlie+Denver` on a solid gold ring."
   ]
  },
  {
   "cell_type": "code",
   "execution_count": 13,
   "id": "1657f954",
   "metadata": {
    "execution": {
     "iopub.execute_input": "2025-03-05T09:58:22.397436Z",
     "iopub.status.busy": "2025-03-05T09:58:22.397039Z",
     "iopub.status.idle": "2025-03-05T09:58:22.402775Z",
     "shell.execute_reply": "2025-03-05T09:58:22.401351Z"
    },
    "papermill": {
     "duration": 0.014942,
     "end_time": "2025-03-05T09:58:22.404419",
     "exception": false,
     "start_time": "2025-03-05T09:58:22.389477",
     "status": "completed"
    },
    "tags": []
   },
   "outputs": [
    {
     "name": "stdout",
     "output_type": "stream",
     "text": [
      "240\n"
     ]
    }
   ],
   "source": [
    "project_one = cost_of_project(\"Charlie+Denver\", True)\n",
    "print(project_one)"
   ]
  },
  {
   "cell_type": "markdown",
   "id": "b4cd7833",
   "metadata": {
    "papermill": {
     "duration": 0.006519,
     "end_time": "2025-03-05T09:58:22.418175",
     "exception": false,
     "start_time": "2025-03-05T09:58:22.411656",
     "status": "completed"
    },
    "tags": []
   },
   "source": [
    "Use the next code cell to calculate the cost of engraving `08/10/2000` on a gold plated ring."
   ]
  },
  {
   "cell_type": "code",
   "execution_count": 14,
   "id": "86283912",
   "metadata": {
    "execution": {
     "iopub.execute_input": "2025-03-05T09:58:22.434291Z",
     "iopub.status.busy": "2025-03-05T09:58:22.433904Z",
     "iopub.status.idle": "2025-03-05T09:58:22.440446Z",
     "shell.execute_reply": "2025-03-05T09:58:22.438531Z"
    },
    "papermill": {
     "duration": 0.016502,
     "end_time": "2025-03-05T09:58:22.442459",
     "exception": false,
     "start_time": "2025-03-05T09:58:22.425957",
     "status": "completed"
    },
    "tags": []
   },
   "outputs": [
    {
     "name": "stdout",
     "output_type": "stream",
     "text": [
      "120\n"
     ]
    }
   ],
   "source": [
    "project_two = cost_of_project(\"08/10/2000\", False)\n",
    "print(project_two)"
   ]
  },
  {
   "cell_type": "markdown",
   "id": "658dcb59",
   "metadata": {
    "papermill": {
     "duration": 0.007507,
     "end_time": "2025-03-05T09:58:22.457162",
     "exception": false,
     "start_time": "2025-03-05T09:58:22.449655",
     "status": "completed"
    },
    "tags": []
   },
   "source": [
    "# Keep going\n",
    "\n",
    "Continue to the next lesson to **[learn about conditions and conditional statements](https://www.kaggle.com/alexisbcook/conditions-and-conditional-statements)**."
   ]
  },
  {
   "cell_type": "markdown",
   "id": "3b72a81f",
   "metadata": {
    "papermill": {
     "duration": 0.007065,
     "end_time": "2025-03-05T09:58:22.471711",
     "exception": false,
     "start_time": "2025-03-05T09:58:22.464646",
     "status": "completed"
    },
    "tags": []
   },
   "source": [
    "---\n",
    "\n",
    "\n",
    "\n",
    "\n",
    "*Have questions or comments? Visit the [course discussion forum](https://www.kaggle.com/learn/intro-to-programming/discussion) to chat with other learners.*"
   ]
  }
 ],
 "metadata": {
  "kaggle": {
   "accelerator": "none",
   "dataSources": [],
   "isGpuEnabled": false,
   "isInternetEnabled": false,
   "language": "python",
   "sourceType": "notebook"
  },
  "kernelspec": {
   "display_name": "Python 3",
   "language": "python",
   "name": "python3"
  },
  "language_info": {
   "codemirror_mode": {
    "name": "ipython",
    "version": 3
   },
   "file_extension": ".py",
   "mimetype": "text/x-python",
   "name": "python",
   "nbconvert_exporter": "python",
   "pygments_lexer": "ipython3",
   "version": "3.10.12"
  },
  "papermill": {
   "default_parameters": {},
   "duration": 5.45627,
   "end_time": "2025-03-05T09:58:23.099269",
   "environment_variables": {},
   "exception": null,
   "input_path": "__notebook__.ipynb",
   "output_path": "__notebook__.ipynb",
   "parameters": {},
   "start_time": "2025-03-05T09:58:17.642999",
   "version": "2.3.3"
  }
 },
 "nbformat": 4,
 "nbformat_minor": 5
}
