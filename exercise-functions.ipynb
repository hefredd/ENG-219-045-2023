{
 "cells": [
  {
   "cell_type": "markdown",
   "id": "01cdee60",
   "metadata": {
    "papermill": {
     "duration": 0.005345,
     "end_time": "2025-03-04T17:27:14.387684",
     "exception": false,
     "start_time": "2025-03-04T17:27:14.382339",
     "status": "completed"
    },
    "tags": []
   },
   "source": [
    "**This notebook is an exercise in the [Intro to Programming](https://www.kaggle.com/learn/intro-to-programming) course.  You can reference the tutorial at [this link](https://www.kaggle.com/alexisbcook/functions).**\n",
    "\n",
    "---\n"
   ]
  },
  {
   "cell_type": "markdown",
   "id": "b13618c7",
   "metadata": {
    "papermill": {
     "duration": 0.004434,
     "end_time": "2025-03-04T17:27:14.397062",
     "exception": false,
     "start_time": "2025-03-04T17:27:14.392628",
     "status": "completed"
    },
    "tags": []
   },
   "source": [
    "In the tutorial, you learned about functions. In this exercise, you'll write some of your own!\n",
    "\n",
    "# Set up the notebook\n",
    "\n",
    "Run the next code cell without changes to set up the notebook."
   ]
  },
  {
   "cell_type": "code",
   "execution_count": 1,
   "id": "4d680da6",
   "metadata": {
    "execution": {
     "iopub.execute_input": "2025-03-04T17:27:14.407846Z",
     "iopub.status.busy": "2025-03-04T17:27:14.407484Z",
     "iopub.status.idle": "2025-03-04T17:27:15.314299Z",
     "shell.execute_reply": "2025-03-04T17:27:15.313240Z"
    },
    "papermill": {
     "duration": 0.91409,
     "end_time": "2025-03-04T17:27:15.315801",
     "exception": false,
     "start_time": "2025-03-04T17:27:14.401711",
     "status": "completed"
    },
    "tags": []
   },
   "outputs": [
    {
     "name": "stdout",
     "output_type": "stream",
     "text": [
      "Setup complete.\n"
     ]
    }
   ],
   "source": [
    "# Set up the exercise\n",
    "import math\n",
    "from learntools.core import binder\n",
    "binder.bind(globals())\n",
    "from learntools.intro_to_programming.ex2 import *\n",
    "print('Setup complete.')"
   ]
  },
  {
   "cell_type": "markdown",
   "id": "bdb47cea",
   "metadata": {
    "papermill": {
     "duration": 0.004476,
     "end_time": "2025-03-04T17:27:15.325290",
     "exception": false,
     "start_time": "2025-03-04T17:27:15.320814",
     "status": "completed"
    },
    "tags": []
   },
   "source": [
    "# Question 1\n",
    "\n",
    "In the [House Prices - Advanced Regression Techniques competition](https://www.kaggle.com/c/house-prices-advanced-regression-techniques/overview), you need to use information like the number of bedrooms and bathrooms to predict the price of a house.  Inspired by this competition, you'll write your own function to do this.\n",
    "\n",
    "In the next code cell, create a function `get_expected_cost()` that has two arguments:\n",
    "- `beds` - number of bedrooms \n",
    "- `baths` - number of bathrooms\n",
    "\n",
    "It should return the expected cost of a house with that number of bedrooms and bathrooms.  Assume that:\n",
    "- the expected cost for a house with 0 bedrooms and 0 bathrooms is `80000`.  \n",
    "- each bedroom adds `30000` to the expected cost\n",
    "- each bathroom adds `10000` to the expected cost.\n",
    "\n",
    "For instance, \n",
    "- a house with 1 bedroom and 1 bathroom has an expected cost of `120000`, and \n",
    "- a house with 2 bedrooms and 1 bathroom has an expected cost of `150000`."
   ]
  },
  {
   "cell_type": "code",
   "execution_count": 2,
   "id": "b8a97ebd",
   "metadata": {
    "execution": {
     "iopub.execute_input": "2025-03-04T17:27:15.335836Z",
     "iopub.status.busy": "2025-03-04T17:27:15.335375Z",
     "iopub.status.idle": "2025-03-04T17:27:15.344162Z",
     "shell.execute_reply": "2025-03-04T17:27:15.343096Z"
    },
    "papermill": {
     "duration": 0.015873,
     "end_time": "2025-03-04T17:27:15.345766",
     "exception": false,
     "start_time": "2025-03-04T17:27:15.329893",
     "status": "completed"
    },
    "tags": []
   },
   "outputs": [
    {
     "data": {
      "application/javascript": [
       "parent.postMessage({\"jupyterEvent\": \"custom.exercise_interaction\", \"data\": {\"outcomeType\": 1, \"valueTowardsCompletion\": 0.2, \"interactionType\": 1, \"questionType\": 2, \"questionId\": \"1_GetExpectedCost\", \"learnToolsVersion\": \"0.3.4\", \"failureMessage\": \"\", \"exceptionClass\": \"\", \"trace\": \"\"}}, \"*\")"
      ],
      "text/plain": [
       "<IPython.core.display.Javascript object>"
      ]
     },
     "metadata": {},
     "output_type": "display_data"
    },
    {
     "data": {
      "text/markdown": [
       "<span style=\"color:#33cc33\">Correct</span>"
      ],
      "text/plain": [
       "Correct"
      ]
     },
     "metadata": {},
     "output_type": "display_data"
    }
   ],
   "source": [
    "# TODO: Complete the function\n",
    "def get_expected_cost(beds, baths):\n",
    "    value = (80000) + (30000 * beds) + (10000 * baths)\n",
    "    return value\n",
    "\n",
    "# Check your answer \n",
    "q1.check()"
   ]
  },
  {
   "cell_type": "code",
   "execution_count": 3,
   "id": "9c3473fc",
   "metadata": {
    "execution": {
     "iopub.execute_input": "2025-03-04T17:27:15.356965Z",
     "iopub.status.busy": "2025-03-04T17:27:15.356658Z",
     "iopub.status.idle": "2025-03-04T17:27:15.360081Z",
     "shell.execute_reply": "2025-03-04T17:27:15.359231Z"
    },
    "papermill": {
     "duration": 0.010752,
     "end_time": "2025-03-04T17:27:15.361679",
     "exception": false,
     "start_time": "2025-03-04T17:27:15.350927",
     "status": "completed"
    },
    "tags": []
   },
   "outputs": [],
   "source": [
    "# Uncomment to see a hint\n",
    "#q1.hint()\n",
    "\n",
    "# Uncomment to view the solution\n",
    "#q1.solution()"
   ]
  },
  {
   "cell_type": "markdown",
   "id": "bb2c62c8",
   "metadata": {
    "papermill": {
     "duration": 0.004616,
     "end_time": "2025-03-04T17:27:15.371364",
     "exception": false,
     "start_time": "2025-03-04T17:27:15.366748",
     "status": "completed"
    },
    "tags": []
   },
   "source": [
    "# Question 2\n",
    "\n",
    "You are thinking about buying a home and want to get an idea of how much you will spend, based on the number of bedrooms and bathrooms.  You are trying to decide between four different options:\n",
    "- Option 1: house with two bedrooms and three bathrooms\n",
    "- Option 2: house with three bedrooms and two bathrooms\n",
    "- Option 3: house with three bedrooms and three bathrooms\n",
    "- Option 4: house with three bedrooms and four bathrooms\n",
    "\n",
    "Use the `get_expected_cost()` function you defined in question 1 to set `option_1`, `option_2`, `option_3`, and `option_4` to the expected cost of each option."
   ]
  },
  {
   "cell_type": "code",
   "execution_count": 4,
   "id": "c220ec78",
   "metadata": {
    "execution": {
     "iopub.execute_input": "2025-03-04T17:27:15.382456Z",
     "iopub.status.busy": "2025-03-04T17:27:15.382103Z",
     "iopub.status.idle": "2025-03-04T17:27:15.391011Z",
     "shell.execute_reply": "2025-03-04T17:27:15.390147Z"
    },
    "papermill": {
     "duration": 0.016202,
     "end_time": "2025-03-04T17:27:15.392479",
     "exception": false,
     "start_time": "2025-03-04T17:27:15.376277",
     "status": "completed"
    },
    "tags": []
   },
   "outputs": [
    {
     "name": "stdout",
     "output_type": "stream",
     "text": [
      "170000\n",
      "190000\n",
      "200000\n",
      "210000\n"
     ]
    },
    {
     "data": {
      "application/javascript": [
       "parent.postMessage({\"jupyterEvent\": \"custom.exercise_interaction\", \"data\": {\"outcomeType\": 1, \"valueTowardsCompletion\": 0.2, \"interactionType\": 1, \"questionType\": 1, \"questionId\": \"2_RunGetExpectedCost\", \"learnToolsVersion\": \"0.3.4\", \"failureMessage\": \"\", \"exceptionClass\": \"\", \"trace\": \"\"}}, \"*\")"
      ],
      "text/plain": [
       "<IPython.core.display.Javascript object>"
      ]
     },
     "metadata": {},
     "output_type": "display_data"
    },
    {
     "data": {
      "text/markdown": [
       "<span style=\"color:#33cc33\">Correct</span>"
      ],
      "text/plain": [
       "Correct"
      ]
     },
     "metadata": {},
     "output_type": "display_data"
    }
   ],
   "source": [
    "# TODO: Use the get_expected_cost function to fill in each value\n",
    "option_one = get_expected_cost(2,3)\n",
    "option_two = get_expected_cost(3,2)\n",
    "option_three = get_expected_cost(3,3)\n",
    "option_four = get_expected_cost(3,4)\n",
    "\n",
    "print(option_one)\n",
    "print(option_two)\n",
    "print(option_three)\n",
    "print(option_four)\n",
    "\n",
    "# Check your answer\n",
    "q2.check()"
   ]
  },
  {
   "cell_type": "code",
   "execution_count": 5,
   "id": "ead48b44",
   "metadata": {
    "execution": {
     "iopub.execute_input": "2025-03-04T17:27:15.404380Z",
     "iopub.status.busy": "2025-03-04T17:27:15.404026Z",
     "iopub.status.idle": "2025-03-04T17:27:15.408056Z",
     "shell.execute_reply": "2025-03-04T17:27:15.407009Z"
    },
    "papermill": {
     "duration": 0.01187,
     "end_time": "2025-03-04T17:27:15.409619",
     "exception": false,
     "start_time": "2025-03-04T17:27:15.397749",
     "status": "completed"
    },
    "tags": []
   },
   "outputs": [],
   "source": [
    "# Uncomment to see a hint\n",
    "#q2.hint()\n",
    "\n",
    "# Uncomment to view the solution\n",
    "#q2.solution()"
   ]
  },
  {
   "cell_type": "markdown",
   "id": "e50c08d0",
   "metadata": {
    "papermill": {
     "duration": 0.004877,
     "end_time": "2025-03-04T17:27:15.419892",
     "exception": false,
     "start_time": "2025-03-04T17:27:15.415015",
     "status": "completed"
    },
    "tags": []
   },
   "source": [
    "# Question 3\n",
    "\n",
    "You're a home decorator, and you'd like to use Python to streamline some of your work.  Specifically, you're creating a tool that you intend to use to calculate the cost of painting a room.\n",
    "\n",
    "As a first step, define a function `get_cost()` that takes as input:\n",
    "- `sqft_walls` = total square feet of walls to be painted\n",
    "- `sqft_ceiling` = square feet of ceiling to be painted\n",
    "- `sqft_per_gallon` = number of square feet that you can cover with one gallon of paint\n",
    "- `cost_per_gallon` = cost (in dollars) of one gallon of paint\n",
    "\n",
    "It should return the cost (in dollars) of putting one coat of paint on all walls and the ceiling.  Assume you can buy the exact amount of paint that you need, so you can buy partial gallons (e.g., if you need 7.523 gallons, you can buy that exact amount, instead of needing to buy 8 gallons and waste some paint).  Do not round your answer."
   ]
  },
  {
   "cell_type": "code",
   "execution_count": 6,
   "id": "1e27a260",
   "metadata": {
    "execution": {
     "iopub.execute_input": "2025-03-04T17:27:15.431593Z",
     "iopub.status.busy": "2025-03-04T17:27:15.431236Z",
     "iopub.status.idle": "2025-03-04T17:27:15.438692Z",
     "shell.execute_reply": "2025-03-04T17:27:15.437754Z"
    },
    "papermill": {
     "duration": 0.015024,
     "end_time": "2025-03-04T17:27:15.440031",
     "exception": false,
     "start_time": "2025-03-04T17:27:15.425007",
     "status": "completed"
    },
    "tags": []
   },
   "outputs": [
    {
     "data": {
      "application/javascript": [
       "parent.postMessage({\"jupyterEvent\": \"custom.exercise_interaction\", \"data\": {\"outcomeType\": 1, \"valueTowardsCompletion\": 0.2, \"interactionType\": 1, \"questionType\": 2, \"questionId\": \"3_GetCostPaint\", \"learnToolsVersion\": \"0.3.4\", \"failureMessage\": \"\", \"exceptionClass\": \"\", \"trace\": \"\"}}, \"*\")"
      ],
      "text/plain": [
       "<IPython.core.display.Javascript object>"
      ]
     },
     "metadata": {},
     "output_type": "display_data"
    },
    {
     "data": {
      "text/markdown": [
       "<span style=\"color:#33cc33\">Correct</span>"
      ],
      "text/plain": [
       "Correct"
      ]
     },
     "metadata": {},
     "output_type": "display_data"
    }
   ],
   "source": [
    "# TODO: Finish defining the function\n",
    "def get_cost(sqft_walls, sqft_ceiling, sqft_per_gallon, cost_per_gallon):\n",
    "    total_sqft = sqft_walls + sqft_ceiling\n",
    "    gallons_needed = total_sqft / sqft_per_gallon\n",
    "    cost = cost_per_gallon * gallons_needed\n",
    "    return cost\n",
    "\n",
    "# Check your answer\n",
    "q3.check()"
   ]
  },
  {
   "cell_type": "code",
   "execution_count": 7,
   "id": "ea619bbc",
   "metadata": {
    "execution": {
     "iopub.execute_input": "2025-03-04T17:27:15.452252Z",
     "iopub.status.busy": "2025-03-04T17:27:15.451913Z",
     "iopub.status.idle": "2025-03-04T17:27:15.455412Z",
     "shell.execute_reply": "2025-03-04T17:27:15.454531Z"
    },
    "papermill": {
     "duration": 0.011155,
     "end_time": "2025-03-04T17:27:15.456920",
     "exception": false,
     "start_time": "2025-03-04T17:27:15.445765",
     "status": "completed"
    },
    "tags": []
   },
   "outputs": [],
   "source": [
    "# Uncomment to see a hint\n",
    "#q3.hint()\n",
    "\n",
    "# Uncomment to view the solution\n",
    "#q3.solution()"
   ]
  },
  {
   "cell_type": "markdown",
   "id": "56ce3406",
   "metadata": {
    "papermill": {
     "duration": 0.005267,
     "end_time": "2025-03-04T17:27:15.467821",
     "exception": false,
     "start_time": "2025-03-04T17:27:15.462554",
     "status": "completed"
    },
    "tags": []
   },
   "source": [
    "# Question 4\n",
    "\n",
    "Use the `get_cost()` function you defined in Question 3 to calculate the cost of applying one coat of paint to a room with:\n",
    "- 432 square feet of walls, and\n",
    "- 144 square feet of ceiling.\n",
    "\n",
    "Assume that one gallon of paint covers 400 square feet and costs $15.  As in Question 3, assume you can buy partial gallons of paint.  Do not round your answer."
   ]
  },
  {
   "cell_type": "code",
   "execution_count": 8,
   "id": "8abc46c3",
   "metadata": {
    "execution": {
     "iopub.execute_input": "2025-03-04T17:27:15.479709Z",
     "iopub.status.busy": "2025-03-04T17:27:15.479370Z",
     "iopub.status.idle": "2025-03-04T17:27:15.486165Z",
     "shell.execute_reply": "2025-03-04T17:27:15.485399Z"
    },
    "papermill": {
     "duration": 0.014346,
     "end_time": "2025-03-04T17:27:15.487660",
     "exception": false,
     "start_time": "2025-03-04T17:27:15.473314",
     "status": "completed"
    },
    "tags": []
   },
   "outputs": [
    {
     "data": {
      "application/javascript": [
       "parent.postMessage({\"jupyterEvent\": \"custom.exercise_interaction\", \"data\": {\"outcomeType\": 1, \"valueTowardsCompletion\": 0.2, \"interactionType\": 1, \"questionType\": 1, \"questionId\": \"4_GetCostPaintExample\", \"learnToolsVersion\": \"0.3.4\", \"failureMessage\": \"\", \"exceptionClass\": \"\", \"trace\": \"\"}}, \"*\")"
      ],
      "text/plain": [
       "<IPython.core.display.Javascript object>"
      ]
     },
     "metadata": {},
     "output_type": "display_data"
    },
    {
     "data": {
      "text/markdown": [
       "<span style=\"color:#33cc33\">Correct</span>"
      ],
      "text/plain": [
       "Correct"
      ]
     },
     "metadata": {},
     "output_type": "display_data"
    }
   ],
   "source": [
    "# TODO: Set the project_cost variable to the cost of the project\n",
    "project_cost = get_cost(432, 144, 400, 15)\n",
    "\n",
    "# Check your answer\n",
    "q4.check()"
   ]
  },
  {
   "cell_type": "code",
   "execution_count": 9,
   "id": "6950afb4",
   "metadata": {
    "execution": {
     "iopub.execute_input": "2025-03-04T17:27:15.500172Z",
     "iopub.status.busy": "2025-03-04T17:27:15.499832Z",
     "iopub.status.idle": "2025-03-04T17:27:15.503091Z",
     "shell.execute_reply": "2025-03-04T17:27:15.502316Z"
    },
    "papermill": {
     "duration": 0.011096,
     "end_time": "2025-03-04T17:27:15.504501",
     "exception": false,
     "start_time": "2025-03-04T17:27:15.493405",
     "status": "completed"
    },
    "tags": []
   },
   "outputs": [],
   "source": [
    "# Uncomment to see a hint\n",
    "#q4.hint()\n",
    "\n",
    "# Uncomment to view the solution\n",
    "#q4.solution()"
   ]
  },
  {
   "cell_type": "markdown",
   "id": "d1e2a8f3",
   "metadata": {
    "papermill": {
     "duration": 0.005454,
     "end_time": "2025-03-04T17:27:15.515933",
     "exception": false,
     "start_time": "2025-03-04T17:27:15.510479",
     "status": "completed"
    },
    "tags": []
   },
   "source": [
    "# 🌶️ Question 5\n",
    "\n",
    "Now say you can no longer buy fractions of a gallon.  (For instance, if you need 4.3 gallons to do a project, then you have to buy 5 gallons of paint.)\n",
    "\n",
    "With this new scenario, you will create a new function `get_actual_cost` that uses the same inputs and calculates the cost of your project.\n",
    "\n",
    "One function that you'll need to use to do this is `math.ceil()`.  We demonstrate usage of this function in the code cell below.  It takes as a number as input and rounds the number up to the nearest integer.  \n",
    "\n",
    "Run the next code cell to test this function for yourself.  Feel free to change the value of `test_value` and make sure `math.ceil()` returns the number you expect."
   ]
  },
  {
   "cell_type": "code",
   "execution_count": 10,
   "id": "056f26c5",
   "metadata": {
    "execution": {
     "iopub.execute_input": "2025-03-04T17:27:15.528569Z",
     "iopub.status.busy": "2025-03-04T17:27:15.528233Z",
     "iopub.status.idle": "2025-03-04T17:27:15.533284Z",
     "shell.execute_reply": "2025-03-04T17:27:15.532212Z"
    },
    "papermill": {
     "duration": 0.013341,
     "end_time": "2025-03-04T17:27:15.534931",
     "exception": false,
     "start_time": "2025-03-04T17:27:15.521590",
     "status": "completed"
    },
    "tags": []
   },
   "outputs": [
    {
     "name": "stdout",
     "output_type": "stream",
     "text": [
      "3\n"
     ]
    }
   ],
   "source": [
    "test_value = 2.8\n",
    "\n",
    "rounded_value = math.ceil(test_value)\n",
    "print(rounded_value)"
   ]
  },
  {
   "cell_type": "markdown",
   "id": "5a753bdf",
   "metadata": {
    "papermill": {
     "duration": 0.005483,
     "end_time": "2025-03-04T17:27:15.546718",
     "exception": false,
     "start_time": "2025-03-04T17:27:15.541235",
     "status": "completed"
    },
    "tags": []
   },
   "source": [
    "Use the next code cell to define the function `get_actual_cost()`.  You'll need to use the `math.ceil()` function to do this.\n",
    "\n",
    "When answering this question, note that it's completely valid to define a function that makes use of another function.  For instance, we can define a function `round_up_and_divide_by_three` that makes use of the `math.ceil` function:\n",
    "```\n",
    "def round_up_and_divide_by_three(num):\n",
    "    new_value = math.ceil(num)\n",
    "    final_value = new_value / 3\n",
    "    return final_value\n",
    "```"
   ]
  },
  {
   "cell_type": "code",
   "execution_count": 11,
   "id": "e5686204",
   "metadata": {
    "execution": {
     "iopub.execute_input": "2025-03-04T17:27:15.559247Z",
     "iopub.status.busy": "2025-03-04T17:27:15.558890Z",
     "iopub.status.idle": "2025-03-04T17:27:15.566664Z",
     "shell.execute_reply": "2025-03-04T17:27:15.565656Z"
    },
    "papermill": {
     "duration": 0.01571,
     "end_time": "2025-03-04T17:27:15.568144",
     "exception": false,
     "start_time": "2025-03-04T17:27:15.552434",
     "status": "completed"
    },
    "tags": []
   },
   "outputs": [
    {
     "data": {
      "application/javascript": [
       "parent.postMessage({\"jupyterEvent\": \"custom.exercise_interaction\", \"data\": {\"outcomeType\": 1, \"valueTowardsCompletion\": 0.2, \"interactionType\": 1, \"questionType\": 2, \"questionId\": \"5_NoMoreFractions\", \"learnToolsVersion\": \"0.3.4\", \"failureMessage\": \"\", \"exceptionClass\": \"\", \"trace\": \"\"}}, \"*\")"
      ],
      "text/plain": [
       "<IPython.core.display.Javascript object>"
      ]
     },
     "metadata": {},
     "output_type": "display_data"
    },
    {
     "data": {
      "text/markdown": [
       "<span style=\"color:#33cc33\">Correct</span>"
      ],
      "text/plain": [
       "Correct"
      ]
     },
     "metadata": {},
     "output_type": "display_data"
    }
   ],
   "source": [
    "def get_actual_cost(sqft_walls, sqft_ceiling, sqft_per_gallon, cost_per_gallon):\n",
    "    total_sqft = sqft_walls + sqft_ceiling\n",
    "    gallons_needed = total_sqft / sqft_per_gallon\n",
    "    gallons_bought= math.ceil(gallons_needed)\n",
    "    cost = cost_per_gallon * gallons_bought\n",
    "    return cost\n",
    "\n",
    "# Check your answer\n",
    "q5.check()"
   ]
  },
  {
   "cell_type": "code",
   "execution_count": 12,
   "id": "5377ba33",
   "metadata": {
    "execution": {
     "iopub.execute_input": "2025-03-04T17:27:15.582167Z",
     "iopub.status.busy": "2025-03-04T17:27:15.581784Z",
     "iopub.status.idle": "2025-03-04T17:27:15.585508Z",
     "shell.execute_reply": "2025-03-04T17:27:15.584482Z"
    },
    "papermill": {
     "duration": 0.012233,
     "end_time": "2025-03-04T17:27:15.587062",
     "exception": false,
     "start_time": "2025-03-04T17:27:15.574829",
     "status": "completed"
    },
    "tags": []
   },
   "outputs": [],
   "source": [
    "# Uncomment to see a hint\n",
    "#q5.hint()\n",
    "\n",
    "# Uncomment to view the solution\n",
    "#q5.solution()"
   ]
  },
  {
   "cell_type": "markdown",
   "id": "4d05d6c2",
   "metadata": {
    "papermill": {
     "duration": 0.005753,
     "end_time": "2025-03-04T17:27:15.598957",
     "exception": false,
     "start_time": "2025-03-04T17:27:15.593204",
     "status": "completed"
    },
    "tags": []
   },
   "source": [
    "Once your function is verified as correct, run the next code cell to calculate the updated cost of your project."
   ]
  },
  {
   "cell_type": "code",
   "execution_count": 13,
   "id": "0dc9c7c8",
   "metadata": {
    "execution": {
     "iopub.execute_input": "2025-03-04T17:27:15.612935Z",
     "iopub.status.busy": "2025-03-04T17:27:15.612564Z",
     "iopub.status.idle": "2025-03-04T17:27:15.618260Z",
     "shell.execute_reply": "2025-03-04T17:27:15.617264Z"
    },
    "papermill": {
     "duration": 0.014251,
     "end_time": "2025-03-04T17:27:15.619798",
     "exception": false,
     "start_time": "2025-03-04T17:27:15.605547",
     "status": "completed"
    },
    "tags": []
   },
   "outputs": [
    {
     "data": {
      "text/plain": [
       "30"
      ]
     },
     "execution_count": 13,
     "metadata": {},
     "output_type": "execute_result"
    }
   ],
   "source": [
    "get_actual_cost(432, 144, 400, 15) "
   ]
  },
  {
   "cell_type": "markdown",
   "id": "805887b3",
   "metadata": {
    "papermill": {
     "duration": 0.005781,
     "end_time": "2025-03-04T17:27:15.631774",
     "exception": false,
     "start_time": "2025-03-04T17:27:15.625993",
     "status": "completed"
    },
    "tags": []
   },
   "source": [
    "Say you're working with a slightly larger room.  Run the next code cell to calculate the cost of the project."
   ]
  },
  {
   "cell_type": "code",
   "execution_count": 14,
   "id": "978c9756",
   "metadata": {
    "execution": {
     "iopub.execute_input": "2025-03-04T17:27:15.645135Z",
     "iopub.status.busy": "2025-03-04T17:27:15.644777Z",
     "iopub.status.idle": "2025-03-04T17:27:15.650292Z",
     "shell.execute_reply": "2025-03-04T17:27:15.649366Z"
    },
    "papermill": {
     "duration": 0.013825,
     "end_time": "2025-03-04T17:27:15.651773",
     "exception": false,
     "start_time": "2025-03-04T17:27:15.637948",
     "status": "completed"
    },
    "tags": []
   },
   "outputs": [
    {
     "data": {
      "text/plain": [
       "45"
      ]
     },
     "execution_count": 14,
     "metadata": {},
     "output_type": "execute_result"
    }
   ],
   "source": [
    "get_actual_cost(594, 288, 400, 15) "
   ]
  },
  {
   "cell_type": "markdown",
   "id": "8ad2e88a",
   "metadata": {
    "papermill": {
     "duration": 0.005942,
     "end_time": "2025-03-04T17:27:15.663986",
     "exception": false,
     "start_time": "2025-03-04T17:27:15.658044",
     "status": "completed"
    },
    "tags": []
   },
   "source": [
    "# Keep going\n",
    "\n",
    "Continue to learn about **[data types](https://www.kaggle.com/alexisbcook/data-types)**."
   ]
  },
  {
   "cell_type": "markdown",
   "id": "85d04796",
   "metadata": {
    "papermill": {
     "duration": 0.00586,
     "end_time": "2025-03-04T17:27:15.676128",
     "exception": false,
     "start_time": "2025-03-04T17:27:15.670268",
     "status": "completed"
    },
    "tags": []
   },
   "source": [
    "---\n",
    "\n",
    "\n",
    "\n",
    "\n",
    "*Have questions or comments? Visit the [course discussion forum](https://www.kaggle.com/learn/intro-to-programming/discussion) to chat with other learners.*"
   ]
  }
 ],
 "metadata": {
  "kaggle": {
   "accelerator": "none",
   "dataSources": [],
   "isGpuEnabled": false,
   "isInternetEnabled": false,
   "language": "python",
   "sourceType": "notebook"
  },
  "kernelspec": {
   "display_name": "Python 3",
   "language": "python",
   "name": "python3"
  },
  "language_info": {
   "codemirror_mode": {
    "name": "ipython",
    "version": 3
   },
   "file_extension": ".py",
   "mimetype": "text/x-python",
   "name": "python",
   "nbconvert_exporter": "python",
   "pygments_lexer": "ipython3",
   "version": "3.10.12"
  },
  "papermill": {
   "default_parameters": {},
   "duration": 4.583924,
   "end_time": "2025-03-04T17:27:16.201452",
   "environment_variables": {},
   "exception": null,
   "input_path": "__notebook__.ipynb",
   "output_path": "__notebook__.ipynb",
   "parameters": {},
   "start_time": "2025-03-04T17:27:11.617528",
   "version": "2.6.0"
  }
 },
 "nbformat": 4,
 "nbformat_minor": 5
}
