{
 "cells": [
  {
   "cell_type": "markdown",
   "id": "5922a5f4",
   "metadata": {
    "papermill": {
     "duration": 0.004897,
     "end_time": "2025-03-05T11:12:26.351940",
     "exception": false,
     "start_time": "2025-03-05T11:12:26.347043",
     "status": "completed"
    },
    "tags": []
   },
   "source": [
    "**This notebook is an exercise in the [Intro to Programming](https://www.kaggle.com/learn/intro-to-programming) course.  You can reference the tutorial at [this link](https://www.kaggle.com/alexisbcook/conditions-and-conditional-statements).**\n",
    "\n",
    "---\n"
   ]
  },
  {
   "cell_type": "markdown",
   "id": "f5523739",
   "metadata": {
    "papermill": {
     "duration": 0.00384,
     "end_time": "2025-03-05T11:12:26.360797",
     "exception": false,
     "start_time": "2025-03-05T11:12:26.356957",
     "status": "completed"
    },
    "tags": []
   },
   "source": [
    "In the tutorial, you learned about conditions and conditional statements. In this exercise, you will use what you learned to answer several questions.\n",
    "\n",
    "# Set up the notebook\n",
    "\n",
    "Run the next code cell without changes to set up the notebook."
   ]
  },
  {
   "cell_type": "code",
   "execution_count": 1,
   "id": "23fe3812",
   "metadata": {
    "execution": {
     "iopub.execute_input": "2025-03-05T11:12:26.369599Z",
     "iopub.status.busy": "2025-03-05T11:12:26.369302Z",
     "iopub.status.idle": "2025-03-05T11:12:27.195909Z",
     "shell.execute_reply": "2025-03-05T11:12:27.194901Z"
    },
    "papermill": {
     "duration": 0.83318,
     "end_time": "2025-03-05T11:12:27.197742",
     "exception": false,
     "start_time": "2025-03-05T11:12:26.364562",
     "status": "completed"
    },
    "tags": []
   },
   "outputs": [
    {
     "name": "stdout",
     "output_type": "stream",
     "text": [
      "Setup complete.\n"
     ]
    }
   ],
   "source": [
    "from learntools.core import binder\n",
    "binder.bind(globals())\n",
    "from learntools.intro_to_programming.ex4 import *\n",
    "print('Setup complete.')"
   ]
  },
  {
   "cell_type": "markdown",
   "id": "02393475",
   "metadata": {
    "papermill": {
     "duration": 0.003712,
     "end_time": "2025-03-05T11:12:27.205914",
     "exception": false,
     "start_time": "2025-03-05T11:12:27.202202",
     "status": "completed"
    },
    "tags": []
   },
   "source": [
    "# Question 1\n",
    "\n",
    "You work at a college admissions office.  When inspecting a dataset of college applicants, you notice that some students have represented their grades with letters (`\"A\"`, `\"B\"`, `\"C\"`, `\"D\"`, `\"F\"`), whereas others have represented their grades with a number between 0 and 100.\n",
    "\n",
    "You realize that for consistency, all of the grades should be formatted in the same way, and you decide to format them all as letters.  For the conversion, you decide to assign:\n",
    "- `\"A\"` - any grade 90-100, inclusive\n",
    "- `\"B\"` - any grade 80-89, inclusive\n",
    "- `\"C\"` - any grade 70-79, inclusive\n",
    "- `\"D\"` - any grade 60-69, inclusive\n",
    "- `\"F\"` - any grade <60\n",
    "\n",
    "Write a function `get_grade()` that takes as input:\n",
    "- `score` - an integer 0-100 corresponding to a numerical grade\n",
    "\n",
    "It should return a Python string with the letter grade that it corresponds to.  For instance,\n",
    "- A score of 85 corresponds to a B grade.  In other words, `get_grade(85)` should return `\"B\"`.\n",
    "- A score of 49 corresponds to an F grade.  In other words, `get_grade(49)` should return `\"F\"`.\n",
    "\n",
    "Make sure that when supplying the grade that is returned by the function, it is enclosed in quotes.  (For instance, if you want to return `\"A\"`, you should write `return \"A\"` and not `return A`.)"
   ]
  },
  {
   "cell_type": "code",
   "execution_count": 2,
   "id": "604dd134",
   "metadata": {
    "execution": {
     "iopub.execute_input": "2025-03-05T11:12:27.214729Z",
     "iopub.status.busy": "2025-03-05T11:12:27.214309Z",
     "iopub.status.idle": "2025-03-05T11:12:27.221923Z",
     "shell.execute_reply": "2025-03-05T11:12:27.221179Z"
    },
    "papermill": {
     "duration": 0.013306,
     "end_time": "2025-03-05T11:12:27.223067",
     "exception": false,
     "start_time": "2025-03-05T11:12:27.209761",
     "status": "completed"
    },
    "tags": []
   },
   "outputs": [
    {
     "data": {
      "application/javascript": [
       "parent.postMessage({\"jupyterEvent\": \"custom.exercise_interaction\", \"data\": {\"outcomeType\": 1, \"valueTowardsCompletion\": 0.2, \"interactionType\": 1, \"questionType\": 2, \"questionId\": \"1_GetGrade\", \"learnToolsVersion\": \"0.3.4\", \"failureMessage\": \"\", \"exceptionClass\": \"\", \"trace\": \"\"}}, \"*\")"
      ],
      "text/plain": [
       "<IPython.core.display.Javascript object>"
      ]
     },
     "metadata": {},
     "output_type": "display_data"
    },
    {
     "data": {
      "text/markdown": [
       "<span style=\"color:#33cc33\">Correct</span>"
      ],
      "text/plain": [
       "Correct"
      ]
     },
     "metadata": {},
     "output_type": "display_data"
    }
   ],
   "source": [
    "# TODO: Edit the function to return the correct grade for different scores\n",
    "def get_grade(score):\n",
    "    if score >= 90:\n",
    "        grade = \"A\" \n",
    "    elif score >= 80:\n",
    "        grade = \"B\"\n",
    "    elif score >= 70:\n",
    "        grade = \"C\"\n",
    "    elif score >= 60:\n",
    "        grade = \"D\"    \n",
    "    else:\n",
    "        grade = \"F\"\n",
    "    \n",
    "    return grade\n",
    "    \n",
    "# Check your answer\n",
    "q1.check()"
   ]
  },
  {
   "cell_type": "code",
   "execution_count": 3,
   "id": "5a0eed6d",
   "metadata": {
    "execution": {
     "iopub.execute_input": "2025-03-05T11:12:27.232675Z",
     "iopub.status.busy": "2025-03-05T11:12:27.232414Z",
     "iopub.status.idle": "2025-03-05T11:12:27.236213Z",
     "shell.execute_reply": "2025-03-05T11:12:27.235076Z"
    },
    "papermill": {
     "duration": 0.0098,
     "end_time": "2025-03-05T11:12:27.237505",
     "exception": false,
     "start_time": "2025-03-05T11:12:27.227705",
     "status": "completed"
    },
    "tags": []
   },
   "outputs": [],
   "source": [
    "# Uncomment to see a hint\n",
    "#q1.hint()\n",
    "\n",
    "# Uncomment to see the solution\n",
    "#q1.solution()"
   ]
  },
  {
   "cell_type": "markdown",
   "id": "d3566a86",
   "metadata": {
    "papermill": {
     "duration": 0.00367,
     "end_time": "2025-03-05T11:12:27.245295",
     "exception": false,
     "start_time": "2025-03-05T11:12:27.241625",
     "status": "completed"
    },
    "tags": []
   },
   "source": [
    "# Question 2\n",
    "\n",
    "In the exercise for the previous lesson, you wrote a function `cost_of_project()` that estimated the price of rings for an online shop that sells rings with custom engravings.  This function did not use conditional statements.  In this exercise, you will rewrite the function to use conditional statements.  Recall that the online shop has the following price structure:\n",
    "- Gold plated rings have a base cost of \\\\$50, and you charge \\\\$7 per engraved unit.  \n",
    "- Solid gold rings have a base cost of \\\\$100, and you charge \\\\$10 per engraved unit.\n",
    "- Spaces and punctuation are counted as engraved units.\n",
    "\n",
    "Your function `cost_of_project()` takes two arguments:\n",
    "- `engraving` - a Python string with the text of the engraving\n",
    "- `solid_gold` - a Boolean that indicates whether the ring is solid gold\n",
    "\n",
    "It should return the cost of the project.  \n",
    "\n",
    "The function has been partially completed for you, and you need to fill in the blanks to complete the function."
   ]
  },
  {
   "cell_type": "code",
   "execution_count": 4,
   "id": "a4f661d1",
   "metadata": {
    "execution": {
     "iopub.execute_input": "2025-03-05T11:12:27.255400Z",
     "iopub.status.busy": "2025-03-05T11:12:27.255081Z",
     "iopub.status.idle": "2025-03-05T11:12:27.262124Z",
     "shell.execute_reply": "2025-03-05T11:12:27.261171Z"
    },
    "papermill": {
     "duration": 0.014285,
     "end_time": "2025-03-05T11:12:27.263463",
     "exception": false,
     "start_time": "2025-03-05T11:12:27.249178",
     "status": "completed"
    },
    "tags": []
   },
   "outputs": [
    {
     "data": {
      "application/javascript": [
       "parent.postMessage({\"jupyterEvent\": \"custom.exercise_interaction\", \"data\": {\"outcomeType\": 1, \"valueTowardsCompletion\": 0.2, \"interactionType\": 1, \"questionType\": 2, \"questionId\": \"2_CostProjectPartDeux\", \"learnToolsVersion\": \"0.3.4\", \"failureMessage\": \"\", \"exceptionClass\": \"\", \"trace\": \"\"}}, \"*\")"
      ],
      "text/plain": [
       "<IPython.core.display.Javascript object>"
      ]
     },
     "metadata": {},
     "output_type": "display_data"
    },
    {
     "data": {
      "text/markdown": [
       "<span style=\"color:#33cc33\">Correct</span>"
      ],
      "text/plain": [
       "Correct"
      ]
     },
     "metadata": {},
     "output_type": "display_data"
    }
   ],
   "source": [
    "def cost_of_project(engraving, solid_gold):\n",
    "    if solid_gold == True:\n",
    "        cost = 100 + (10 * len(engraving))\n",
    "    else:\n",
    "        cost = 50 + (7 * len(engraving))\n",
    "    return cost\n",
    "\n",
    "# Check your answer\n",
    "q2.check()"
   ]
  },
  {
   "cell_type": "code",
   "execution_count": 5,
   "id": "696e94b4",
   "metadata": {
    "execution": {
     "iopub.execute_input": "2025-03-05T11:12:27.273460Z",
     "iopub.status.busy": "2025-03-05T11:12:27.273085Z",
     "iopub.status.idle": "2025-03-05T11:12:27.277036Z",
     "shell.execute_reply": "2025-03-05T11:12:27.275561Z"
    },
    "papermill": {
     "duration": 0.010728,
     "end_time": "2025-03-05T11:12:27.278760",
     "exception": false,
     "start_time": "2025-03-05T11:12:27.268032",
     "status": "completed"
    },
    "tags": []
   },
   "outputs": [],
   "source": [
    "# Uncomment to see a hint\n",
    "#q2.hint()\n",
    "\n",
    "# Uncomment to see the solution\n",
    "#q2.solution()"
   ]
  },
  {
   "cell_type": "markdown",
   "id": "3e4d680c",
   "metadata": {
    "papermill": {
     "duration": 0.003857,
     "end_time": "2025-03-05T11:12:27.287274",
     "exception": false,
     "start_time": "2025-03-05T11:12:27.283417",
     "status": "completed"
    },
    "tags": []
   },
   "source": [
    "# Question 3\n",
    "\n",
    "You are a programmer at a water agency.  Recently, you have been tasked to write a function `get_water_bill()` that takes as input:\n",
    "- `num_gallons` = the number of gallons of water that a customer used that month.  (This will always be an integer with no decimal part.)\n",
    "\n",
    "It should output the water bill.  \n",
    "\n",
    "The water agency uses this pricing structure:\n",
    "<table style=\"width: 100%;\">\n",
    "<tbody>\n",
    "<tr><th><b>Tier</b></th><th><b>Amount in gallons</b></th><th><b>Price per 1000 gallons</b></th></tr>\n",
    "<tr>\n",
    "<td>Tier 1</td>\n",
    "<td>0 - 8,000</td>\n",
    "<td>\\$5</td>\n",
    "</tr>\n",
    "<tr>\n",
    "<td>Tier 2</td>\n",
    "<td>8,001 - 22,000</td>\n",
    "<td>\\$6</td>\n",
    "</tr>\n",
    "<tr>\n",
    "<td>Tier 3</td>\n",
    "<td>22,001 - 30,000</td>\n",
    "<td>\\$7</td>\n",
    "</tr>\n",
    "<tr>\n",
    "<td>Tier 4</td>\n",
    "<td>30,001+</td>\n",
    "<td>\\$10</td>\n",
    "</tr>\n",
    "</tbody>\n",
    "</table>\n",
    "\n",
    "For example: \n",
    "- Someone who uses 10,000 gallons of water in a month is placed in Tier 2, and needs to pay a water bill of \\\\$6 * 10 = \\\\$60.  In other words, `get_water_bill(10000)` should return `60.0`.\n",
    "- Someone who uses 25,000 gallons of water in a month is placed in Tier 3, and needs to pay a water bill of \\\\$7 * 25 = \\\\$175.  In other words, `get_water_bill(25000)` should return `175.0`.\n",
    "\n",
    "**Do not round your answer.**  So, your answer might return fractions of a penny."
   ]
  },
  {
   "cell_type": "code",
   "execution_count": 6,
   "id": "4d6f87d5",
   "metadata": {
    "execution": {
     "iopub.execute_input": "2025-03-05T11:12:27.296487Z",
     "iopub.status.busy": "2025-03-05T11:12:27.296192Z",
     "iopub.status.idle": "2025-03-05T11:12:27.302144Z",
     "shell.execute_reply": "2025-03-05T11:12:27.301430Z"
    },
    "papermill": {
     "duration": 0.01202,
     "end_time": "2025-03-05T11:12:27.303351",
     "exception": false,
     "start_time": "2025-03-05T11:12:27.291331",
     "status": "completed"
    },
    "tags": []
   },
   "outputs": [
    {
     "data": {
      "application/javascript": [
       "parent.postMessage({\"jupyterEvent\": \"custom.exercise_interaction\", \"data\": {\"outcomeType\": 1, \"valueTowardsCompletion\": 0.2, \"interactionType\": 1, \"questionType\": 2, \"questionId\": \"3_GetWaterBill\", \"learnToolsVersion\": \"0.3.4\", \"failureMessage\": \"\", \"exceptionClass\": \"\", \"trace\": \"\"}}, \"*\")"
      ],
      "text/plain": [
       "<IPython.core.display.Javascript object>"
      ]
     },
     "metadata": {},
     "output_type": "display_data"
    },
    {
     "data": {
      "text/markdown": [
       "<span style=\"color:#33cc33\">Correct</span>"
      ],
      "text/plain": [
       "Correct"
      ]
     },
     "metadata": {},
     "output_type": "display_data"
    }
   ],
   "source": [
    "# TODO: Edit the function to return the correct bill for different\n",
    "# values of num_gallons\n",
    "def get_water_bill(num_gallons):\n",
    "    if num_gallons <= 8000:\n",
    "        bill = 5 * num_gallons / 1000\n",
    "    elif num_gallons <= 22000:\n",
    "        bill = 6 * (num_gallons / 1000)\n",
    "    elif num_gallons <= 30000:\n",
    "        bill = 7 * (num_gallons / 1000)\n",
    "    else:\n",
    "        bill = 10 * (num_gallons / 1000)\n",
    "    return bill\n",
    "\n",
    "# Check your answer\n",
    "q3.check()"
   ]
  },
  {
   "cell_type": "code",
   "execution_count": 7,
   "id": "6c167c82",
   "metadata": {
    "execution": {
     "iopub.execute_input": "2025-03-05T11:12:27.312685Z",
     "iopub.status.busy": "2025-03-05T11:12:27.312452Z",
     "iopub.status.idle": "2025-03-05T11:12:27.316058Z",
     "shell.execute_reply": "2025-03-05T11:12:27.314775Z"
    },
    "papermill": {
     "duration": 0.010287,
     "end_time": "2025-03-05T11:12:27.317946",
     "exception": false,
     "start_time": "2025-03-05T11:12:27.307659",
     "status": "completed"
    },
    "tags": []
   },
   "outputs": [],
   "source": [
    "# Uncomment to see a hint\n",
    "#q3.hint()\n",
    "\n",
    "# Uncomment to see the solution\n",
    "#q3.solution()"
   ]
  },
  {
   "cell_type": "markdown",
   "id": "48f3f55c",
   "metadata": {
    "papermill": {
     "duration": 0.004164,
     "end_time": "2025-03-05T11:12:27.327176",
     "exception": false,
     "start_time": "2025-03-05T11:12:27.323012",
     "status": "completed"
    },
    "tags": []
   },
   "source": [
    "# Question 4\n",
    "\n",
    "You work for a company that provides data services.  For \\\\$100/month, your company provides 15 gigabytes (GB) of data.  Then, any additional data is billed at \\\\$0.10/MB (or \\\\$100/GB, since 1,000 MB are in 1 GB).\n",
    "\n",
    "Use the next code cell to write a function `get_phone_bill()` that takes as input:\n",
    "- `gb` = number of GB that the customer used in a month\n",
    "\n",
    "It should return the customer's total phone bill.\n",
    "\n",
    "For instance:\n",
    "- A customer who uses 10 GB of data in one month is billed only \\\\$100, since the usage stayed under 15 GB.  In other words, `get_phone_bill(10)` should return `100`.\n",
    "- A customer who uses 15.1 GB (or 15 GB + 100 MB) of data in one month has gone over by .1 GB, so they must pay \\\\$100 (cost of plan), plus \\\\$0.10 * 100 = \\\\$10, for a total bill of \\\\$110.  In other words, `get_phone_bill(15.1)` should return `110`.\n",
    "\n",
    "Do not round your answer."
   ]
  },
  {
   "cell_type": "code",
   "execution_count": 8,
   "id": "32fae8d9",
   "metadata": {
    "execution": {
     "iopub.execute_input": "2025-03-05T11:12:27.336920Z",
     "iopub.status.busy": "2025-03-05T11:12:27.336573Z",
     "iopub.status.idle": "2025-03-05T11:12:27.342964Z",
     "shell.execute_reply": "2025-03-05T11:12:27.341965Z"
    },
    "papermill": {
     "duration": 0.012977,
     "end_time": "2025-03-05T11:12:27.344497",
     "exception": false,
     "start_time": "2025-03-05T11:12:27.331520",
     "status": "completed"
    },
    "tags": []
   },
   "outputs": [
    {
     "data": {
      "application/javascript": [
       "parent.postMessage({\"jupyterEvent\": \"custom.exercise_interaction\", \"data\": {\"outcomeType\": 1, \"valueTowardsCompletion\": 0.2, \"interactionType\": 1, \"questionType\": 2, \"questionId\": \"4_GetPhoneBill\", \"learnToolsVersion\": \"0.3.4\", \"failureMessage\": \"\", \"exceptionClass\": \"\", \"trace\": \"\"}}, \"*\")"
      ],
      "text/plain": [
       "<IPython.core.display.Javascript object>"
      ]
     },
     "metadata": {},
     "output_type": "display_data"
    },
    {
     "data": {
      "text/markdown": [
       "<span style=\"color:#33cc33\">Correct</span>"
      ],
      "text/plain": [
       "Correct"
      ]
     },
     "metadata": {},
     "output_type": "display_data"
    }
   ],
   "source": [
    "# TODO: Edit the function to return the correct bill for different\n",
    "# values of GB\n",
    "def get_phone_bill(gb):\n",
    "    if gb <= 15:\n",
    "        bill = 100\n",
    "    else:\n",
    "        bill = 100 + (100 * (gb - 15))\n",
    "    return bill\n",
    "\n",
    "# Check your answer\n",
    "q4.check()"
   ]
  },
  {
   "cell_type": "code",
   "execution_count": 9,
   "id": "b3e7f6de",
   "metadata": {
    "execution": {
     "iopub.execute_input": "2025-03-05T11:12:27.355494Z",
     "iopub.status.busy": "2025-03-05T11:12:27.355180Z",
     "iopub.status.idle": "2025-03-05T11:12:27.358485Z",
     "shell.execute_reply": "2025-03-05T11:12:27.357671Z"
    },
    "papermill": {
     "duration": 0.01056,
     "end_time": "2025-03-05T11:12:27.360061",
     "exception": false,
     "start_time": "2025-03-05T11:12:27.349501",
     "status": "completed"
    },
    "tags": []
   },
   "outputs": [],
   "source": [
    "# Uncomment to see a hint\n",
    "#q4.hint()\n",
    "\n",
    "# Uncomment to see the solution\n",
    "#q4.solution()"
   ]
  },
  {
   "cell_type": "markdown",
   "id": "85a1cbd9",
   "metadata": {
    "papermill": {
     "duration": 0.004202,
     "end_time": "2025-03-05T11:12:27.369250",
     "exception": false,
     "start_time": "2025-03-05T11:12:27.365048",
     "status": "completed"
    },
    "tags": []
   },
   "source": [
    "# 🌶️ Question 5\n",
    "\n",
    "In Mexico, foods and beverages that are high in saturated fat, trans fat, sugar, sodium, and/or calories appear with warning labels that are designed to help consumers make healthy food choices.\n",
    "\n",
    "For instance, the [box of cookies](https://world.openfoodfacts.org/product/7501000673209/florentinas-gamesa) in the image below appears with two labels (in the upper right corner):\n",
    "- EXCESO CALORÍAS (in English, EXCESS CALORIES)\n",
    "- EXCESO AZÚCARES (in English, EXCESS SUGAR)\n",
    "\n",
    "<center><img src=\"https://storage.googleapis.com/kaggle-media/learn/images/VXYKHnM.png\" alt=\"drawing\" width=\"500\"/></center>\n",
    "\n",
    "In this question, you'll work with a function `get_labels()` that takes the nutritional details about a food item and prints the needed warning labels.  This function takes several inputs:\n",
    "- `food_type` = one of `\"solid\"` or `\"liquid\"`\n",
    "- `serving_size` = size of one serving (if solid, in grams; if liquid, in milliliters)\n",
    "- `calories_per_serving` = calories in one serving\n",
    "- `saturated_fat_g` = grams of saturated fat in one serving\n",
    "- `trans_fat_g` = grams of trans fat in one serving\n",
    "- `sodium_mg` = mg of sodium in one serving\n",
    "- `sugars_g` = grams of sugar in one serving\n",
    "\n",
    "Note that some of the code here should feel unfamiliar to you, since we have not shared the details of how some of the functions like `excess_sugar()` or `excess_saturated_fat()` work.  But at a high level, these are functions that return a value of `True` if the food is deemed to have an excess of sugar or saturated fat, respectively.  These functions are used within the `get_labels()` function, and whenever there is an excess (of sugar or saturated fat, but also of trans fat, sodium, or calories), it prints the corresponding label."
   ]
  },
  {
   "cell_type": "code",
   "execution_count": 10,
   "id": "959be113",
   "metadata": {
    "execution": {
     "iopub.execute_input": "2025-03-05T11:12:27.379310Z",
     "iopub.status.busy": "2025-03-05T11:12:27.378940Z",
     "iopub.status.idle": "2025-03-05T11:12:27.385416Z",
     "shell.execute_reply": "2025-03-05T11:12:27.384684Z"
    },
    "papermill": {
     "duration": 0.013004,
     "end_time": "2025-03-05T11:12:27.386673",
     "exception": false,
     "start_time": "2025-03-05T11:12:27.373669",
     "status": "completed"
    },
    "tags": []
   },
   "outputs": [],
   "source": [
    "# import functions needed to make get_labels work\n",
    "from learntools.intro_to_programming.ex4q5 import excess_sugar, excess_saturated_fat, excess_trans_fat, excess_sodium, excess_calories\n",
    "\n",
    "def get_labels(food_type, serving_size, calories_per_serving, saturated_fat_g, trans_fat_g, sodium_mg, sugars_g):\n",
    "    # Print messages based on findings\n",
    "    if excess_sugar(sugars_g, calories_per_serving) == True:\n",
    "        print(\"EXCESO AZÚCARES / EXCESS SUGAR\")\n",
    "    if excess_saturated_fat(saturated_fat_g, calories_per_serving) == True:\n",
    "        print(\"EXCESO GRASAS SATURADAS / EXCESS SATURATED FAT\")\n",
    "    if excess_trans_fat(trans_fat_g, calories_per_serving) == True:\n",
    "        print(\"EXCESO GRASAS TRANS / EXCESS TRANS FAT\")\n",
    "    if excess_sodium(calories_per_serving, sodium_mg) == True:\n",
    "        print(\"EXCESO SODIO / EXCESS SODIUM\")\n",
    "    if excess_calories(food_type, calories_per_serving, serving_size) == True:\n",
    "        print(\"EXCESO CALORÍAS / EXCESS CALORIES\")"
   ]
  },
  {
   "cell_type": "markdown",
   "id": "32eaab74",
   "metadata": {
    "papermill": {
     "duration": 0.004244,
     "end_time": "2025-03-05T11:12:27.395915",
     "exception": false,
     "start_time": "2025-03-05T11:12:27.391671",
     "status": "completed"
    },
    "tags": []
   },
   "source": [
    "The next code cell demonstrates how to use `get_labels()` to get the warning labels that the food item should contain.  We begin with [bologna](https://world.openfoodfacts.org/product/4099100179378/bologna).  Here is [an image](https://storage.googleapis.com/kaggle-media/learn/images/Cfcx72e.png) with all of the nutritional information.  Note that for this food,\n",
    "- `food_type = \"solid\"` (because bologna is a solid and not a liquid)\n",
    "- `serving_size = 32` (the serving size is 32 grams)\n",
    "- `calories_per_serving = 110` (there are 110 calories per serving)\n",
    "- `saturated_fat_g = 2.5` (there are 2.5 grams of saturated fat per serving)\n",
    "- `trans_fat_g = 0` (there are 0 grams of trans fat per serving)\n",
    "- `sodium_mg = 400` (there are 400 mg of sodium per serving)\n",
    "- `sugars_g = 1` (the nutrition facts say <1g, but we will round it up to 1 gram per serving to be safe)\n",
    "\n",
    "By supplying all of these values to the function, we can print the warning labels."
   ]
  },
  {
   "cell_type": "code",
   "execution_count": 11,
   "id": "769bcbea",
   "metadata": {
    "execution": {
     "iopub.execute_input": "2025-03-05T11:12:27.405677Z",
     "iopub.status.busy": "2025-03-05T11:12:27.405350Z",
     "iopub.status.idle": "2025-03-05T11:12:27.409735Z",
     "shell.execute_reply": "2025-03-05T11:12:27.408830Z"
    },
    "papermill": {
     "duration": 0.011052,
     "end_time": "2025-03-05T11:12:27.411287",
     "exception": false,
     "start_time": "2025-03-05T11:12:27.400235",
     "status": "completed"
    },
    "tags": []
   },
   "outputs": [
    {
     "name": "stdout",
     "output_type": "stream",
     "text": [
      "EXCESO GRASAS SATURADAS / EXCESS SATURATED FAT\n",
      "EXCESO SODIO / EXCESS SODIUM\n",
      "EXCESO CALORÍAS / EXCESS CALORIES\n"
     ]
    }
   ],
   "source": [
    "# bologna https://world.openfoodfacts.org/product/4099100179378/bologna\n",
    "get_labels(\"solid\", 32, 110, 2.5, 0, 400, 1)"
   ]
  },
  {
   "cell_type": "markdown",
   "id": "253072c2",
   "metadata": {
    "papermill": {
     "duration": 0.004272,
     "end_time": "2025-03-05T11:12:27.420613",
     "exception": false,
     "start_time": "2025-03-05T11:12:27.416341",
     "status": "completed"
    },
    "tags": []
   },
   "source": [
    "This bologna has three labels, printed in the output above.\n",
    "\n",
    "For the rest of this question, you will use the same `get_labels()` function to determine the labels for more foods.  This question is designed to help you get practice with feeling comfortable with code that other people have written, and where you don't have time to review every single line of code before interacting with it.  For instance, when you take the [Intro to Machine Learning course](http://www.kaggle.com/learn/intro-to-machine-learning), you'll work with a Python package called \"scikit-learn\", which is a large collection of code that you'll learn how to run without reviewing all of the code in detail (as it would take too long, and you can trust that it was implemented correctly).\n",
    "\n",
    "In general, as you continue coding in Python, you will often be running code that other people have written.  This is common practice for advanced programmers.\n",
    "\n",
    "In the next code cell, fill in the values for [this cereal](https://world.openfoodfacts.org/product/7501008023624/zucaritas-kellogg-s).  Here is [an image](https://storage.googleapis.com/kaggle-media/learn/images/MUxzHVU.png) with all of the nutritional information.\n",
    "\n",
    "**Note**: running the line of code below as-is will return an error.  You have to fill in the nutritional values first."
   ]
  },
  {
   "cell_type": "code",
   "execution_count": 12,
   "id": "7a2eea19",
   "metadata": {
    "execution": {
     "iopub.execute_input": "2025-03-05T11:12:27.430402Z",
     "iopub.status.busy": "2025-03-05T11:12:27.430085Z",
     "iopub.status.idle": "2025-03-05T11:12:27.434790Z",
     "shell.execute_reply": "2025-03-05T11:12:27.433876Z"
    },
    "papermill": {
     "duration": 0.011039,
     "end_time": "2025-03-05T11:12:27.435997",
     "exception": false,
     "start_time": "2025-03-05T11:12:27.424958",
     "status": "completed"
    },
    "tags": []
   },
   "outputs": [
    {
     "name": "stdout",
     "output_type": "stream",
     "text": [
      "EXCESO AZÚCARES / EXCESS SUGAR\n",
      "EXCESO SODIO / EXCESS SODIUM\n",
      "EXCESO CALORÍAS / EXCESS CALORIES\n"
     ]
    }
   ],
   "source": [
    " #zucaritas cereal https://world.openfoodfacts.org/product/7501008023624/zucaritas-kellogg-s\n",
    "# TODO: Uncomment the line below, fill in the values, and run the function\n",
    "get_labels(\"solid\", 40, 150, 0, 0, 150, 16)"
   ]
  },
  {
   "cell_type": "markdown",
   "id": "1d21d98e",
   "metadata": {
    "papermill": {
     "duration": 0.004688,
     "end_time": "2025-03-05T11:12:27.445834",
     "exception": false,
     "start_time": "2025-03-05T11:12:27.441146",
     "status": "completed"
    },
    "tags": []
   },
   "source": [
    "Next, try [these mozzarella sticks](https://world-es.openfoodfacts.org/producto/0062325540104/mozzarella-cheese-sticks).  Here is [an image](https://storage.googleapis.com/kaggle-media/learn/images/rcdB7VH.png) with all of the nutritional information."
   ]
  },
  {
   "cell_type": "code",
   "execution_count": 13,
   "id": "ef7548db",
   "metadata": {
    "execution": {
     "iopub.execute_input": "2025-03-05T11:12:27.456976Z",
     "iopub.status.busy": "2025-03-05T11:12:27.456649Z",
     "iopub.status.idle": "2025-03-05T11:12:27.461869Z",
     "shell.execute_reply": "2025-03-05T11:12:27.460934Z"
    },
    "papermill": {
     "duration": 0.011936,
     "end_time": "2025-03-05T11:12:27.463139",
     "exception": false,
     "start_time": "2025-03-05T11:12:27.451203",
     "status": "completed"
    },
    "tags": []
   },
   "outputs": [
    {
     "name": "stdout",
     "output_type": "stream",
     "text": [
      "EXCESO GRASAS SATURADAS / EXCESS SATURATED FAT\n",
      "EXCESO GRASAS TRANS / EXCESS TRANS FAT\n",
      "EXCESO SODIO / EXCESS SODIUM\n",
      "EXCESO CALORÍAS / EXCESS CALORIES\n"
     ]
    }
   ],
   "source": [
    "# mozzarella sticks https://world-es.openfoodfacts.org/producto/0062325540104/mozzarella-cheese-sticks\n",
    "# TODO: Uncomment the line below, fill in the values, and run the function\n",
    "get_labels(\"solid\", 21, 68, 3, 0.2, 208, 0)"
   ]
  },
  {
   "cell_type": "markdown",
   "id": "d8fe5c08",
   "metadata": {
    "papermill": {
     "duration": 0.004362,
     "end_time": "2025-03-05T11:12:27.472412",
     "exception": false,
     "start_time": "2025-03-05T11:12:27.468050",
     "status": "completed"
    },
    "tags": []
   },
   "source": [
    "Feel free to skip to the end of the notebook now and run `q5.check()` to complete the exercise.  If you want to try more foods, \n",
    "- try [these cookies](https://world.openfoodfacts.org/product/0069700118545/biscuits-au-sucre-pretraches).  Here is [an image](https://storage.googleapis.com/kaggle-media/learn/images/2Bc271o.png) with all of the nutritional information.\n",
    "- try [this soda](https://world-es.openfoodfacts.org/producto/0078000113464/orange-soda-sunkist).  Here is [an image](https://storage.googleapis.com/kaggle-media/learn/images/RsBYa8E.png) with all of the nutritional information.\n",
    "\n",
    "Use the two code cells below for this."
   ]
  },
  {
   "cell_type": "code",
   "execution_count": 14,
   "id": "52d61c9b",
   "metadata": {
    "execution": {
     "iopub.execute_input": "2025-03-05T11:12:27.482443Z",
     "iopub.status.busy": "2025-03-05T11:12:27.482137Z",
     "iopub.status.idle": "2025-03-05T11:12:27.487538Z",
     "shell.execute_reply": "2025-03-05T11:12:27.486508Z"
    },
    "papermill": {
     "duration": 0.011947,
     "end_time": "2025-03-05T11:12:27.488773",
     "exception": false,
     "start_time": "2025-03-05T11:12:27.476826",
     "status": "completed"
    },
    "tags": []
   },
   "outputs": [
    {
     "name": "stdout",
     "output_type": "stream",
     "text": [
      "EXCESO AZÚCARES / EXCESS SUGAR\n",
      "EXCESO GRASAS SATURADAS / EXCESS SATURATED FAT\n",
      "EXCESO GRASAS TRANS / EXCESS TRANS FAT\n",
      "EXCESO CALORÍAS / EXCESS CALORIES\n"
     ]
    }
   ],
   "source": [
    "# pillsbury cookies https://world.openfoodfacts.org/product/0069700118545/biscuits-au-sucre-pretraches\n",
    "# TODO: Uncomment the line below, fill in the values, and run the function\n",
    "get_labels(\"solid\", 30, 120, 1.5, 0.5, 110, 9 )"
   ]
  },
  {
   "cell_type": "code",
   "execution_count": 15,
   "id": "7717224f",
   "metadata": {
    "execution": {
     "iopub.execute_input": "2025-03-05T11:12:27.500505Z",
     "iopub.status.busy": "2025-03-05T11:12:27.500230Z",
     "iopub.status.idle": "2025-03-05T11:12:27.504254Z",
     "shell.execute_reply": "2025-03-05T11:12:27.503187Z"
    },
    "papermill": {
     "duration": 0.011231,
     "end_time": "2025-03-05T11:12:27.505506",
     "exception": false,
     "start_time": "2025-03-05T11:12:27.494275",
     "status": "completed"
    },
    "tags": []
   },
   "outputs": [
    {
     "name": "stdout",
     "output_type": "stream",
     "text": [
      "EXCESO AZÚCARES / EXCESS SUGAR\n"
     ]
    }
   ],
   "source": [
    "# sunkist orange soda https://world-es.openfoodfacts.org/producto/0078000113464/orange-soda-sunkist\n",
    "# TODO: Uncomment the line below, fill in the values, and run the function\n",
    "get_labels(\"liquid\", 355, 160, 0, 0, 65, 44)"
   ]
  },
  {
   "cell_type": "markdown",
   "id": "a84e4643",
   "metadata": {
    "papermill": {
     "duration": 0.004259,
     "end_time": "2025-03-05T11:12:27.514710",
     "exception": false,
     "start_time": "2025-03-05T11:12:27.510451",
     "status": "completed"
    },
    "tags": []
   },
   "source": [
    "Once you have finished investigating the food items in this question, run the final code cell to get credit for completing this problem."
   ]
  },
  {
   "cell_type": "code",
   "execution_count": 16,
   "id": "b3f460b4",
   "metadata": {
    "execution": {
     "iopub.execute_input": "2025-03-05T11:12:27.524870Z",
     "iopub.status.busy": "2025-03-05T11:12:27.524540Z",
     "iopub.status.idle": "2025-03-05T11:12:27.532258Z",
     "shell.execute_reply": "2025-03-05T11:12:27.531182Z"
    },
    "papermill": {
     "duration": 0.014739,
     "end_time": "2025-03-05T11:12:27.533928",
     "exception": false,
     "start_time": "2025-03-05T11:12:27.519189",
     "status": "completed"
    },
    "tags": []
   },
   "outputs": [
    {
     "data": {
      "application/javascript": [
       "parent.postMessage({\"jupyterEvent\": \"custom.exercise_interaction\", \"data\": {\"outcomeType\": 1, \"valueTowardsCompletion\": 0.2, \"interactionType\": 1, \"questionType\": 2, \"questionId\": \"5_GetLabels\", \"learnToolsVersion\": \"0.3.4\", \"failureMessage\": \"\", \"exceptionClass\": \"\", \"trace\": \"\"}}, \"*\")"
      ],
      "text/plain": [
       "<IPython.core.display.Javascript object>"
      ]
     },
     "metadata": {},
     "output_type": "display_data"
    },
    {
     "data": {
      "text/markdown": [
       "<span style=\"color:#33cc33\">Once you have determined the labels for all of the food items, you're ready to move on to the next lesson!</span>"
      ],
      "text/plain": [
       "Once you have determined the labels for all of the food items, you're ready to move on to the next lesson!"
      ]
     },
     "metadata": {},
     "output_type": "display_data"
    }
   ],
   "source": [
    "# Get credit for completing the problem\n",
    "q5.check()"
   ]
  },
  {
   "cell_type": "markdown",
   "id": "1c2cb606",
   "metadata": {
    "papermill": {
     "duration": 0.004429,
     "end_time": "2025-03-05T11:12:27.543663",
     "exception": false,
     "start_time": "2025-03-05T11:12:27.539234",
     "status": "completed"
    },
    "tags": []
   },
   "source": [
    "# Keep going\n",
    "\n",
    "Continue to the next lesson to **[learn about Python lists](https://www.kaggle.com/alexisbcook/intro-to-lists)**."
   ]
  },
  {
   "cell_type": "markdown",
   "id": "56eb316c",
   "metadata": {
    "papermill": {
     "duration": 0.004373,
     "end_time": "2025-03-05T11:12:27.552542",
     "exception": false,
     "start_time": "2025-03-05T11:12:27.548169",
     "status": "completed"
    },
    "tags": []
   },
   "source": [
    "---\n",
    "\n",
    "\n",
    "\n",
    "\n",
    "*Have questions or comments? Visit the [course discussion forum](https://www.kaggle.com/learn/intro-to-programming/discussion) to chat with other learners.*"
   ]
  }
 ],
 "metadata": {
  "kaggle": {
   "accelerator": "none",
   "dataSources": [],
   "isGpuEnabled": false,
   "isInternetEnabled": false,
   "language": "python",
   "sourceType": "notebook"
  },
  "kernelspec": {
   "display_name": "Python 3",
   "language": "python",
   "name": "python3"
  },
  "language_info": {
   "codemirror_mode": {
    "name": "ipython",
    "version": 3
   },
   "file_extension": ".py",
   "mimetype": "text/x-python",
   "name": "python",
   "nbconvert_exporter": "python",
   "pygments_lexer": "ipython3",
   "version": "3.10.12"
  },
  "papermill": {
   "default_parameters": {},
   "duration": 3.835619,
   "end_time": "2025-03-05T11:12:28.076018",
   "environment_variables": {},
   "exception": null,
   "input_path": "__notebook__.ipynb",
   "output_path": "__notebook__.ipynb",
   "parameters": {},
   "start_time": "2025-03-05T11:12:24.240399",
   "version": "2.6.0"
  }
 },
 "nbformat": 4,
 "nbformat_minor": 5
}
